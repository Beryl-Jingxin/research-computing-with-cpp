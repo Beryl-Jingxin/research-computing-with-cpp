{
 "metadata": {
  "name": "python_flow_control"
 },
 "nbformat": 3,
 "nbformat_minor": 0,
 "orig_nbformat": 2,
 "worksheets": [
  {
   "cells": [
    {
     "cell_type": "markdown",
     "source": [
      "# Python: Flow Control"
     ]
    },
    {
     "cell_type": "markdown",
     "source": [
      "Materials by: [John Blischak](https://github.com/jdblischak \"GitHub\") and other Software Carpentry instructors (Joshua R. Smith, Milad Fatenejad, Katy Huff, Tommy Guy and many more)"
     ]
    },
    {
     "cell_type": "markdown",
     "source": [
      "In this lesson we will cover how to write code that will execute only if specified conditions are met and also how to automate repetitive tasks using loops."
     ]
    },
    {
     "cell_type": "markdown",
     "source": [
      "# If statements\n",
      "\n",
      "A conditional (if statement) is some statement that in general says :\n",
      "\"When some boolean is true, do the following. Otherwise, do this other\n",
      "thing.\"\n",
      "\n",
      "Many equivalence test statements exist in Python that are similar in\n",
      "other languages: `< > <= >= == !=`"
     ]
    },
    {
     "cell_type": "code",
     "collapsed": true,
     "input": [
      "x = 5\n",
      "if x < 0:\n",
      "    print \"x is negative\""
     ],
     "language": "python",
     "outputs": [],
     "prompt_number": ""
    },
    {
     "cell_type": "code",
     "collapsed": true,
     "input": [
      "x = -5\n",
      "if x < 0:\n",
      "    print \"x is negative\""
     ],
     "language": "python",
     "outputs": [],
     "prompt_number": ""
    },
    {
     "cell_type": "code",
     "collapsed": true,
     "input": [
      "x = 5\n",
      "if x < 0:\n",
      "    print \"x is negative\"\n",
      "else:\n",
      "    print \"x in non-negative\""
     ],
     "language": "python",
     "outputs": [],
     "prompt_number": ""
    },
    {
     "cell_type": "code",
     "collapsed": true,
     "input": [
      "x = 5\n",
      "if x < 0:\n",
      "    print \"x is negative\"\n",
      "elif x == 0:\n",
      "    print \"x is zero\"\n",
      "else:\n",
      "    print \"x is positive\""
     ],
     "language": "python",
     "outputs": [],
     "prompt_number": ""
    },
    {
     "cell_type": "markdown",
     "source": [
      "Be careful because the computer interprets comparisons very literally."
     ]
    },
    {
     "cell_type": "code",
     "collapsed": true,
     "input": [
      "'1' < 2"
     ],
     "language": "python",
     "outputs": [],
     "prompt_number": ""
    },
    {
     "cell_type": "code",
     "collapsed": true,
     "input": [
      "True == 'True'"
     ],
     "language": "python",
     "outputs": [],
     "prompt_number": ""
    },
    {
     "cell_type": "code",
     "collapsed": true,
     "input": [
      "False == 0"
     ],
     "language": "python",
     "outputs": [],
     "prompt_number": ""
    },
    {
     "cell_type": "code",
     "collapsed": true,
     "input": [
      "'Bears' > 'Packers'"
     ],
     "language": "python",
     "outputs": [],
     "prompt_number": ""
    },
    {
     "cell_type": "markdown",
     "source": [
      "Python has other equivalence test statements that are fairly\n",
      "unique to python. To check whether an object is contained in a list :"
     ]
    },
    {
     "cell_type": "code",
     "collapsed": false,
     "input": [
      "beatle=\"John\"\n",
      "beatles=[\"George\", \"Ringo\",\"John\", \"Paul\"]\n",
      "print beatle in beatles # is John one of the beatles? : TRUE\n",
      "print \"Katy\" not in beatles # this is also TRUE. "
     ],
     "language": "python",
     "outputs": [],
     "prompt_number": ""
    },
    {
     "cell_type": "markdown",
     "source": [
      "## Indentation\n",
      "The indentation is a feature of python that some people hate. Some other programming languages use brackets to denote a command block. Python uses indentation. The amount of indentation doesn't matter, so long as everything in the same block is indented the same amount."
     ]
    },
    {
     "cell_type": "markdown",
     "source": [
      "## Short Exercise\n",
      "Write an if statement that prints whether x is even or odd."
     ]
    },
    {
     "cell_type": "markdown",
     "source": [
      "# Loops\n",
      "Loops come in two flavors: `while` and `for`."
     ]
    },
    {
     "cell_type": "code",
     "collapsed": true,
     "input": [
      "fruits = ['apples', 'oranges', 'pears', 'bananas']\n",
      "i = 0\n",
      "while i < len(fruits):\n",
      "    print fruits[i]\n",
      "    i = i + 1"
     ],
     "language": "python",
     "outputs": [],
     "prompt_number": ""
    },
    {
     "cell_type": "code",
     "collapsed": true,
     "input": [
      "for fruit in fruits:\n",
      "    print fruit"
     ],
     "language": "python",
     "outputs": [],
     "prompt_number": ""
    },
    {
     "cell_type": "code",
     "collapsed": true,
     "input": [
      "# Use range for a range on integers\n",
      "for i in range(len(fruits)):\n",
      "    print i, fruits[i]"
     ],
     "language": "python",
     "outputs": [],
     "prompt_number": ""
    },
    {
     "cell_type": "code",
     "collapsed": true,
     "input": [
      "# Use zip to iterate over two lists at once\n",
      "fruits = ['apples', 'oranges', 'pears', 'bananas']\n",
      "prices = [0.49, 0.99, 1.49, 0.32]\n",
      "for fruit, price in zip(fruits, prices):\n",
      "    print fruit, \"cost\", price, \"each\"\n",
      "    "
     ],
     "language": "python",
     "outputs": [],
     "prompt_number": ""
    },
    {
     "cell_type": "code",
     "collapsed": true,
     "input": [
      "# Use \"items\" to iterate over a dictionary\n",
      "# Note the order is non-deterministic\n",
      "prices = {'apples': 0.49, 'oranges': 0.99, 'pears': 1.49, 'bananas': 0.32}\n",
      "for fruit, price in prices.items():\n",
      "    print fruit, \"cost\", price, \"each\"\n",
      "          "
     ],
     "language": "python",
     "outputs": [],
     "prompt_number": ""
    },
    {
     "cell_type": "code",
     "collapsed": true,
     "input": [
      "# Calculating a sum\n",
      "values = [1254, 95818, 61813541, 1813, 4]\n",
      "sum = 0\n",
      "for x in values:\n",
      "    sum = sum + x\n",
      "sum"
     ],
     "language": "python",
     "outputs": [],
     "prompt_number": ""
    },
    {
     "cell_type": "markdown",
     "source": [
      "## Short Exercise\n",
      "Using a loop, calculate the factorial of 42 (the product of all integers up to and including 42)."
     ]
    },
    {
     "cell_type": "markdown",
     "source": [
      "## break, continue, and else\n",
      "\n",
      "A break statement cuts off a loop from within an inner loop. It helps\n",
      "avoid infinite loops by cutting off loops when they're clearly going\n",
      "nowhere."
     ]
    },
    {
     "cell_type": "code",
     "collapsed": true,
     "input": [
      "reasonable = 10\n",
      "for n in range(1,2000):\n",
      "    if n == reasonable :\n",
      "        break\n",
      "    print n"
     ],
     "language": "python",
     "outputs": [],
     "prompt_number": ""
    },
    {
     "cell_type": "markdown",
     "source": [
      "Something you might want to do instead of breaking is to continue to the\n",
      "next iteration of a loop, giving up on the current one."
     ]
    },
    {
     "cell_type": "code",
     "collapsed": true,
     "input": [
      "reasonable = 10\n",
      "for n in range(1,20):\n",
      "    if n == reasonable :\n",
      "      continue\n",
      "    print n"
     ],
     "language": "python",
     "outputs": [],
     "prompt_number": ""
    },
    {
     "cell_type": "markdown",
     "source": [
      "What is the difference between the output of these two?\n",
      "\n",
      "Importantly, Python allows you to use an else statement in a for loop.\n",
      "\n",
      "That is :"
     ]
    },
    {
     "cell_type": "code",
     "collapsed": true,
     "input": [
      "knights={\"Sir Belvedere\":\"the Wise\", \"Sir Lancelot\":\"the Brave\", \\\n",
      "        \"Sir Galahad\":\"the Pure\", \"Sir Robin\":\"the Brave\", \"The Black Knight\":\"John Clease\"} \n",
      "\n",
      "favorites=knights.keys()\n",
      "favorites.remove(\"Sir Robin\")\n",
      "for name, title in knights.iteritems() : \n",
      "    string = name + \", \"\n",
      "    for fav in favorites :\n",
      "        if fav == name :\n",
      "            string += title\n",
      "            break\n",
      "    else:\n",
      "        string += title + \", but not quite so brave as Sir Lancelot.\" \n",
      "    print string"
     ],
     "language": "python",
     "outputs": [],
     "prompt_number": ""
    },
    {
     "cell_type": "markdown",
     "source": [
      "# Reading from a file"
     ]
    },
    {
     "cell_type": "code",
     "collapsed": true,
     "input": [
      "less example.txt"
     ],
     "language": "python",
     "outputs": [],
     "prompt_number": ""
    },
    {
     "cell_type": "code",
     "collapsed": true,
     "input": [
      "my_file = open(\"example.txt\")\n",
      "for line in my_file:\n",
      "    print line.strip()\n",
      "my_file.close()"
     ],
     "language": "python",
     "outputs": [],
     "prompt_number": ""
    },
    {
     "cell_type": "markdown",
     "source": [
      "# Writing to a file"
     ]
    },
    {
     "cell_type": "code",
     "collapsed": true,
     "input": [
      "new_file = open(\"example2.txt\", \"w\")\n",
      "dwight = ['bears', 'beets', 'Battlestar Galactica']\n",
      "for i in dwight:\n",
      "    new_file.write(i + '\\n')\n",
      "new_file.close()"
     ],
     "language": "python",
     "outputs": [],
     "prompt_number": ""
    },
    {
     "cell_type": "code",
     "collapsed": true,
     "input": [
      "less example2.txt"
     ],
     "language": "python",
     "outputs": [],
     "prompt_number": ""
    },
    {
     "cell_type": "markdown",
     "source": [
      "# Longer Exercise: Convert genotypes\n",
      "If most of this material is brand new to you, your goal is to complete Part 1. If you are more experienced, please move on to Part 2 and Part 3. And don't forget to talk to your neighbor!"
     ]
    },
    {
     "cell_type": "markdown",
     "source": [
      "### Motivation:\n",
      "A biologist is interested in the genetic basis of height. She measures the heights of many subjects and sends off their DNA samples to a core for genotyping arrays. These arrays determine the DNA bases at the variable sites of the genome (known as single nucleotide polymorphisms, or SNPs). Since humans are diploid, i.e. have two of each chromosome, each data point will be two DNA bases corresponding to the two chromosomes in each individual. At each SNP, there will be only three possible genotypes, e.g. AA, AG, GG for an A/G SNP. In order to test the correlation between a SNP genotype and height, she wants to perform a regression with an additive genetic model. However, she cannot do this with the data in the current form. She needs to convert the genotypes, e.g. AA, AG, and GG, to the numbers 0, 1, and 2, respectively (in the example the number corresponds the number of G bases the person has at that SNP). Since she has too much data to do this manually, e.g. in Excel, she comes to you for ideas of how to efficiently transform the data."
     ]
    },
    {
     "cell_type": "markdown",
     "source": [
      "## Part 1:\n",
      "Create a new list which has the converted genotype for each subject ('AA' -> 0, 'AG' -> 1, 'GG' -> 2)."
     ]
    },
    {
     "cell_type": "code",
     "collapsed": true,
     "input": [
      "genos = ['AA', 'GG', 'AG', 'AG', 'GG']\n",
      "genos_new = []\n",
      "# Use your knowledge of if/else statements and loop structures below."
     ],
     "language": "python",
     "outputs": [],
     "prompt_number": ""
    },
    {
     "cell_type": "markdown",
     "source": [
      "Check your work:"
     ]
    },
    {
     "cell_type": "code",
     "collapsed": false,
     "input": [
      "genos_new == [0, 2, 1, 1, 2]"
     ],
     "language": "python",
     "outputs": [],
     "prompt_number": ""
    },
    {
     "cell_type": "markdown",
     "source": [
      "## Part 2:\n",
      "Sometimes there are errors and the genotype cannot be determined. Adapt your code from above to deal with this problem (in this example missing data is assigned NA for \"Not Available\")."
     ]
    },
    {
     "cell_type": "code",
     "collapsed": true,
     "input": [
      "genos_w_missing = ['AA', 'NA', 'GG', 'AG', 'AG', 'GG', 'NA']\n",
      "genos_w_missing_new = []\n",
      "# The missing data should not be converted to a number, but remain 'NA' in the new list"
     ],
     "language": "python",
     "outputs": [],
     "prompt_number": ""
    },
    {
     "cell_type": "markdown",
     "source": [
      "Check your work:"
     ]
    },
    {
     "cell_type": "code",
     "collapsed": false,
     "input": [
      "genos_w_missing_new == [0, 'NA', 2, 1, 1, 2, 'NA']"
     ],
     "language": "python",
     "outputs": [],
     "prompt_number": ""
    },
    {
     "cell_type": "markdown",
     "source": [
      "## Part 3:\n",
      "The file genos.txt has a column of genotypes. Read in the data and convert the genotypes as above. Hint: You'll need to use the built-in string method strip to remove the new-line characters (See the example of reading in a file above. We will cover string methods in the next section)."
     ]
    },
    {
     "cell_type": "code",
     "collapsed": true,
     "input": [
      "# Store the genotypes from genos.txt in this list\n",
      "genos_from_file = []"
     ],
     "language": "python",
     "outputs": [],
     "prompt_number": ""
    },
    {
     "cell_type": "markdown",
     "source": [
      "Check your work:"
     ]
    },
    {
     "cell_type": "code",
     "collapsed": false,
     "input": [
      "genos_from_file[:15] == [2, 2, 1, 1, 0, 0, 2, 2, 2, 0, 'NA', 1, 0, 0, 2]"
     ],
     "language": "python",
     "outputs": [],
     "prompt_number": ""
    },
    {
     "cell_type": "markdown",
     "source": [
      "# Bonus material: List comprehensions"
     ]
    },
    {
     "cell_type": "markdown",
     "source": [
      "Python has another way to perform iteration called list comprehensions."
     ]
    },
    {
     "cell_type": "code",
     "collapsed": false,
     "input": [
      "# Multiply every number in a list by 2 using a for loop\n",
      "nums1 = [5, 1, 3, 10]\n",
      "nums2 = []\n",
      "for i in range(len(nums1)):\n",
      "    nums2.append(nums1[i] * 2)\n",
      "    \n",
      "print nums2"
     ],
     "language": "python",
     "outputs": [],
     "prompt_number": ""
    },
    {
     "cell_type": "code",
     "collapsed": false,
     "input": [
      "# Multiply every number in a list by 2 using a list comprehension\n",
      "nums2 = [x * 2 for x in nums1]\n",
      "\n",
      "print nums2"
     ],
     "language": "python",
     "outputs": [],
     "prompt_number": ""
    },
    {
     "cell_type": "code",
     "collapsed": false,
     "input": [
      "# Multiply every number in a list by 2, but only if the number is greater than 4\n",
      "nums1 = [5, 1, 3, 10]\n",
      "nums2 = []\n",
      "for i in range(len(nums1)):\n",
      "    if nums1[i] > 4:\n",
      "        nums2.append(nums1[i] * 2)\n",
      "    \n",
      "print nums2"
     ],
     "language": "python",
     "outputs": [],
     "prompt_number": ""
    },
    {
     "cell_type": "code",
     "collapsed": false,
     "input": [
      "# And using a list comprehension\n",
      "nums2 = [x * 2 for x in nums1 if x > 4]\n",
      "\n",
      "print nums2"
     ],
     "language": "python",
     "outputs": [],
     "prompt_number": ""
    }
   ]
  }
 ]
}